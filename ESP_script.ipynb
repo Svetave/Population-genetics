{
 "cells": [
  {
   "cell_type": "code",
   "execution_count": 67,
   "id": "09d064d6",
   "metadata": {},
   "outputs": [],
   "source": [
    "import pandas as pd\n",
    "import numpy as np\n",
    "import matplotlib.pyplot as plt"
   ]
  },
  {
   "cell_type": "markdown",
   "id": "281d66e9",
   "metadata": {},
   "source": [
    "## Load data"
   ]
  },
  {
   "cell_type": "code",
   "execution_count": 10,
   "id": "8f3733b3",
   "metadata": {},
   "outputs": [],
   "source": [
    "# load data\n",
    "new_esp = pd.read_csv(\"ESP_SNP_data.tsv\", sep = \"\\t\")"
   ]
  },
  {
   "cell_type": "code",
   "execution_count": 11,
   "id": "3dddc5c9",
   "metadata": {},
   "outputs": [
    {
     "data": {
      "text/html": [
       "<div>\n",
       "<style scoped>\n",
       "    .dataframe tbody tr th:only-of-type {\n",
       "        vertical-align: middle;\n",
       "    }\n",
       "\n",
       "    .dataframe tbody tr th {\n",
       "        vertical-align: top;\n",
       "    }\n",
       "\n",
       "    .dataframe thead th {\n",
       "        text-align: right;\n",
       "    }\n",
       "</style>\n",
       "<table border=\"1\" class=\"dataframe\">\n",
       "  <thead>\n",
       "    <tr style=\"text-align: right;\">\n",
       "      <th></th>\n",
       "      <th>LOC</th>\n",
       "      <th>GENE</th>\n",
       "      <th>EFF</th>\n",
       "      <th>AF</th>\n",
       "    </tr>\n",
       "  </thead>\n",
       "  <tbody>\n",
       "    <tr>\n",
       "      <th>0</th>\n",
       "      <td>1:69428:T:G</td>\n",
       "      <td>OR4F5</td>\n",
       "      <td>NON_SYNONYMOUS_CODING</td>\n",
       "      <td>0.030647</td>\n",
       "    </tr>\n",
       "    <tr>\n",
       "      <th>1</th>\n",
       "      <td>1:69496:G:A</td>\n",
       "      <td>OR4F5</td>\n",
       "      <td>NON_SYNONYMOUS_CODING</td>\n",
       "      <td>0.002364</td>\n",
       "    </tr>\n",
       "    <tr>\n",
       "      <th>2</th>\n",
       "      <td>1:69511:A:G</td>\n",
       "      <td>OR4F5</td>\n",
       "      <td>NON_SYNONYMOUS_CODING</td>\n",
       "      <td>0.759766</td>\n",
       "    </tr>\n",
       "    <tr>\n",
       "      <th>3</th>\n",
       "      <td>1:69590:T:A</td>\n",
       "      <td>OR4F5</td>\n",
       "      <td>NON_SYNONYMOUS_CODING</td>\n",
       "      <td>0.000102</td>\n",
       "    </tr>\n",
       "    <tr>\n",
       "      <th>4</th>\n",
       "      <td>1:69594:T:C</td>\n",
       "      <td>OR4F5</td>\n",
       "      <td>SYNONYMOUS_CODING</td>\n",
       "      <td>0.000205</td>\n",
       "    </tr>\n",
       "  </tbody>\n",
       "</table>\n",
       "</div>"
      ],
      "text/plain": [
       "           LOC   GENE                    EFF        AF\n",
       "0  1:69428:T:G  OR4F5  NON_SYNONYMOUS_CODING  0.030647\n",
       "1  1:69496:G:A  OR4F5  NON_SYNONYMOUS_CODING  0.002364\n",
       "2  1:69511:A:G  OR4F5  NON_SYNONYMOUS_CODING  0.759766\n",
       "3  1:69590:T:A  OR4F5  NON_SYNONYMOUS_CODING  0.000102\n",
       "4  1:69594:T:C  OR4F5      SYNONYMOUS_CODING  0.000205"
      ]
     },
     "execution_count": 11,
     "metadata": {},
     "output_type": "execute_result"
    }
   ],
   "source": [
    "new_esp.head()"
   ]
  },
  {
   "cell_type": "markdown",
   "id": "63e6d349",
   "metadata": {},
   "source": [
    "## Data observation"
   ]
  },
  {
   "cell_type": "code",
   "execution_count": 15,
   "id": "076ab4cb",
   "metadata": {},
   "outputs": [
    {
     "data": {
      "text/plain": [
       "18571"
      ]
     },
     "execution_count": 15,
     "metadata": {},
     "output_type": "execute_result"
    }
   ],
   "source": [
    "# data observation: genes\n",
    "\n",
    "genes = set(new_esp['GENE'])\n",
    "len(genes)"
   ]
  },
  {
   "cell_type": "code",
   "execution_count": 17,
   "id": "e3a2fc85",
   "metadata": {},
   "outputs": [
    {
     "data": {
      "text/plain": [
       "['SYNONYMOUS_CODING', 'NON_SYNONYMOUS_CODING', 'STOP_GAINED']"
      ]
     },
     "execution_count": 17,
     "metadata": {},
     "output_type": "execute_result"
    }
   ],
   "source": [
    "#data observation: EFF\n",
    "\n",
    "EFF = list(set(new_esp['EFF']))\n",
    "EFF"
   ]
  },
  {
   "cell_type": "markdown",
   "id": "718c79af",
   "metadata": {},
   "source": [
    "## Filtering data"
   ]
  },
  {
   "cell_type": "code",
   "execution_count": 26,
   "id": "47a62b7f",
   "metadata": {},
   "outputs": [
    {
     "data": {
      "text/plain": [
       "['SMR3B',\n",
       " 'NPIPA1',\n",
       " 'FRG2',\n",
       " 'DEFB133',\n",
       " 'CDC26',\n",
       " 'LOC101929372',\n",
       " 'ZCCHC10',\n",
       " 'SMIM6',\n",
       " 'KRTAP22-2',\n",
       " 'BAGE4',\n",
       " 'BORCS8-MEF2B',\n",
       " 'H2BFM',\n",
       " 'RPS10',\n",
       " 'C7orf66',\n",
       " 'C2orf72',\n",
       " 'MRGPRG',\n",
       " 'SPDYE6',\n",
       " 'CD52',\n",
       " 'PET117',\n",
       " 'C14orf178',\n",
       " 'TMEM31',\n",
       " 'RNF103-CHMP3',\n",
       " 'ZC2HC1B',\n",
       " 'SRY',\n",
       " 'FXYD6',\n",
       " 'LGALS7',\n",
       " 'PRH1',\n",
       " 'FAM133A',\n",
       " 'ATOX1',\n",
       " 'GOLGA6C',\n",
       " 'AMELY',\n",
       " 'OR2T29',\n",
       " 'LYRM2',\n",
       " 'POLR2J3',\n",
       " 'SPINK8',\n",
       " 'TRNP1',\n",
       " 'TMEM56-RWDD3',\n",
       " 'GOLGA6D',\n",
       " 'CCDC152',\n",
       " 'RPL39L',\n",
       " 'RNF222',\n",
       " 'SNRPE',\n",
       " 'C12orf75',\n",
       " 'LYPD8',\n",
       " 'SPATA31D4',\n",
       " 'DSTN',\n",
       " 'GNG7',\n",
       " 'C9orf16',\n",
       " 'IGIP',\n",
       " 'POLR2J',\n",
       " 'PRAC1',\n",
       " 'EIF1AY',\n",
       " 'RPL36A-HNRNPH2',\n",
       " 'HDDC3',\n",
       " 'C14orf2',\n",
       " 'NATD1',\n",
       " 'SMIM3',\n",
       " 'NBPF4',\n",
       " 'TBC1D7',\n",
       " 'CGB5',\n",
       " 'SMIM9',\n",
       " 'PTN',\n",
       " 'LAMTOR3',\n",
       " 'C17orf107',\n",
       " 'PECAM1',\n",
       " 'NUPR2',\n",
       " 'ARHGAP8',\n",
       " 'TBC1D3C',\n",
       " 'C2orf74',\n",
       " 'SCHIP1',\n",
       " 'MT2A',\n",
       " 'SPX',\n",
       " 'MAFF',\n",
       " 'MORN2',\n",
       " 'WFDC6',\n",
       " 'IQCF6',\n",
       " 'CISD1',\n",
       " 'NBPF11',\n",
       " 'RPP21',\n",
       " 'RFPL4A',\n",
       " 'H2AFB2',\n",
       " 'C7orf69',\n",
       " 'C12orf73',\n",
       " 'SMIM12',\n",
       " 'GNG10',\n",
       " 'SMN1',\n",
       " 'PMF1-BGLAP',\n",
       " 'FAM89B',\n",
       " 'H2AFV',\n",
       " 'SMIM4',\n",
       " 'MT1G',\n",
       " 'PCP4',\n",
       " 'C20orf144',\n",
       " 'CISD3',\n",
       " 'FAM229B',\n",
       " 'URGCP-MRPS24',\n",
       " 'EPPIN',\n",
       " 'BRK1',\n",
       " 'ZNF720',\n",
       " 'PRCD',\n",
       " 'ATP6V1G2',\n",
       " 'LOC101927572',\n",
       " 'PATE4',\n",
       " 'PPP1R3G',\n",
       " 'LOC100129083',\n",
       " 'LOC650293',\n",
       " 'CTAGE15',\n",
       " 'DMRTC1B',\n",
       " 'TMEM236',\n",
       " 'SMIM20',\n",
       " 'FAM25A',\n",
       " 'INS',\n",
       " 'C1orf185',\n",
       " 'DEFB105B',\n",
       " 'UBTFL1',\n",
       " 'C5orf58',\n",
       " 'SSX4B',\n",
       " 'C4orf48',\n",
       " 'PET100',\n",
       " 'ANKRD20A1',\n",
       " 'SNX3',\n",
       " 'HSBP1L1',\n",
       " 'TBPL1',\n",
       " 'CTAGE6',\n",
       " 'INSL5',\n",
       " 'S100G',\n",
       " 'TMEM257',\n",
       " 'PRAMEF18',\n",
       " 'PRAMEF20',\n",
       " 'MBD3L3',\n",
       " 'RPL17',\n",
       " 'CCL18',\n",
       " 'POC1B-GALNT4',\n",
       " 'PLAC8',\n",
       " 'MAGEA9',\n",
       " 'LBHD1',\n",
       " 'C16orf52',\n",
       " 'SPATA31A6',\n",
       " 'APLN',\n",
       " 'RPRM',\n",
       " 'C11orf98',\n",
       " 'ERCC5',\n",
       " 'C5orf47',\n",
       " 'CYSRT1',\n",
       " 'CXorf40B',\n",
       " 'POTED',\n",
       " 'DNAJC25-GNG10',\n",
       " 'SMIM24',\n",
       " 'TMSB4X',\n",
       " 'C4orf26',\n",
       " 'TMSB15B',\n",
       " 'TMEM155',\n",
       " 'POLR2J2',\n",
       " 'TSTD1',\n",
       " 'KRTAP20-1',\n",
       " 'BEX5',\n",
       " 'OAZ2',\n",
       " 'FKBP1A',\n",
       " 'BOLA3',\n",
       " 'PGA3',\n",
       " 'URAD',\n",
       " 'DAZ3',\n",
       " 'HES2',\n",
       " 'SMIM1',\n",
       " 'NDP',\n",
       " 'U2AF1L5']"
      ]
     },
     "execution_count": 26,
     "metadata": {},
     "output_type": "execute_result"
    }
   ],
   "source": [
    "df_synom = new_esp.loc[new_esp['EFF'] == 'SYNONYMOUS_CODING']\n",
    "genes_synom = set(df_synom[\"GENE\"])\n",
    "removed_genes = list(genes - genes_synom)\n",
    "removed_genes"
   ]
  },
  {
   "cell_type": "code",
   "execution_count": 27,
   "id": "2b1fb6ed",
   "metadata": {},
   "outputs": [
    {
     "data": {
      "text/plain": [
       "18405"
      ]
     },
     "execution_count": 27,
     "metadata": {},
     "output_type": "execute_result"
    }
   ],
   "source": [
    "final_esp = new_esp[~new_esp['GENE'].isin(removed_genes)]\n",
    "len(set(final_esp[\"GENE\"]))"
   ]
  },
  {
   "cell_type": "markdown",
   "id": "1093609d",
   "metadata": {},
   "source": [
    "## Implementation of script"
   ]
  },
  {
   "cell_type": "code",
   "execution_count": null,
   "id": "fb09bc25",
   "metadata": {},
   "outputs": [],
   "source": [
    "gene = 'OR4F5' start gene\n",
    "for i in len(final_esp[\"GENE\"]):\n",
    "    if final_esp[\"GENE\"][i] == gene:\n",
    "        "
   ]
  },
  {
   "cell_type": "code",
   "execution_count": 31,
   "id": "a1450b6f",
   "metadata": {},
   "outputs": [],
   "source": [
    "data_grp = final_esp.groupby(['EFF', 'GENE'])"
   ]
  },
  {
   "cell_type": "code",
   "execution_count": 32,
   "id": "48c51381",
   "metadata": {},
   "outputs": [
    {
     "data": {
      "text/html": [
       "<div>\n",
       "<style scoped>\n",
       "    .dataframe tbody tr th:only-of-type {\n",
       "        vertical-align: middle;\n",
       "    }\n",
       "\n",
       "    .dataframe tbody tr th {\n",
       "        vertical-align: top;\n",
       "    }\n",
       "\n",
       "    .dataframe thead th {\n",
       "        text-align: right;\n",
       "    }\n",
       "</style>\n",
       "<table border=\"1\" class=\"dataframe\">\n",
       "  <thead>\n",
       "    <tr style=\"text-align: right;\">\n",
       "      <th></th>\n",
       "      <th>LOC</th>\n",
       "      <th>GENE</th>\n",
       "      <th>EFF</th>\n",
       "      <th>AF</th>\n",
       "    </tr>\n",
       "  </thead>\n",
       "  <tbody>\n",
       "    <tr>\n",
       "      <th>0</th>\n",
       "      <td>1:69428:T:G</td>\n",
       "      <td>OR4F5</td>\n",
       "      <td>NON_SYNONYMOUS_CODING</td>\n",
       "      <td>0.030647</td>\n",
       "    </tr>\n",
       "    <tr>\n",
       "      <th>1</th>\n",
       "      <td>1:69496:G:A</td>\n",
       "      <td>OR4F5</td>\n",
       "      <td>NON_SYNONYMOUS_CODING</td>\n",
       "      <td>0.002364</td>\n",
       "    </tr>\n",
       "    <tr>\n",
       "      <th>2</th>\n",
       "      <td>1:69511:A:G</td>\n",
       "      <td>OR4F5</td>\n",
       "      <td>NON_SYNONYMOUS_CODING</td>\n",
       "      <td>0.759766</td>\n",
       "    </tr>\n",
       "    <tr>\n",
       "      <th>3</th>\n",
       "      <td>1:69590:T:A</td>\n",
       "      <td>OR4F5</td>\n",
       "      <td>NON_SYNONYMOUS_CODING</td>\n",
       "      <td>0.000102</td>\n",
       "    </tr>\n",
       "    <tr>\n",
       "      <th>4</th>\n",
       "      <td>1:69594:T:C</td>\n",
       "      <td>OR4F5</td>\n",
       "      <td>SYNONYMOUS_CODING</td>\n",
       "      <td>0.000205</td>\n",
       "    </tr>\n",
       "    <tr>\n",
       "      <th>...</th>\n",
       "      <td>...</td>\n",
       "      <td>...</td>\n",
       "      <td>...</td>\n",
       "      <td>...</td>\n",
       "    </tr>\n",
       "    <tr>\n",
       "      <th>1029749</th>\n",
       "      <td>Y:22923212:T:A</td>\n",
       "      <td>RPS4Y2</td>\n",
       "      <td>NON_SYNONYMOUS_CODING</td>\n",
       "      <td>0.000409</td>\n",
       "    </tr>\n",
       "    <tr>\n",
       "      <th>1029750</th>\n",
       "      <td>Y:22923215:A:G</td>\n",
       "      <td>RPS4Y2</td>\n",
       "      <td>NON_SYNONYMOUS_CODING</td>\n",
       "      <td>0.000409</td>\n",
       "    </tr>\n",
       "    <tr>\n",
       "      <th>1029751</th>\n",
       "      <td>Y:22930693:C:T</td>\n",
       "      <td>RPS4Y2</td>\n",
       "      <td>SYNONYMOUS_CODING</td>\n",
       "      <td>0.000409</td>\n",
       "    </tr>\n",
       "    <tr>\n",
       "      <th>1029752</th>\n",
       "      <td>Y:22942886:A:G</td>\n",
       "      <td>RPS4Y2</td>\n",
       "      <td>NON_SYNONYMOUS_CODING</td>\n",
       "      <td>0.000409</td>\n",
       "    </tr>\n",
       "    <tr>\n",
       "      <th>1029753</th>\n",
       "      <td>Y:22942897:T:C</td>\n",
       "      <td>RPS4Y2</td>\n",
       "      <td>SYNONYMOUS_CODING</td>\n",
       "      <td>0.023332</td>\n",
       "    </tr>\n",
       "  </tbody>\n",
       "</table>\n",
       "<p>190800 rows × 4 columns</p>\n",
       "</div>"
      ],
      "text/plain": [
       "                    LOC    GENE                    EFF        AF\n",
       "0           1:69428:T:G   OR4F5  NON_SYNONYMOUS_CODING  0.030647\n",
       "1           1:69496:G:A   OR4F5  NON_SYNONYMOUS_CODING  0.002364\n",
       "2           1:69511:A:G   OR4F5  NON_SYNONYMOUS_CODING  0.759766\n",
       "3           1:69590:T:A   OR4F5  NON_SYNONYMOUS_CODING  0.000102\n",
       "4           1:69594:T:C   OR4F5      SYNONYMOUS_CODING  0.000205\n",
       "...                 ...     ...                    ...       ...\n",
       "1029749  Y:22923212:T:A  RPS4Y2  NON_SYNONYMOUS_CODING  0.000409\n",
       "1029750  Y:22923215:A:G  RPS4Y2  NON_SYNONYMOUS_CODING  0.000409\n",
       "1029751  Y:22930693:C:T  RPS4Y2      SYNONYMOUS_CODING  0.000409\n",
       "1029752  Y:22942886:A:G  RPS4Y2  NON_SYNONYMOUS_CODING  0.000409\n",
       "1029753  Y:22942897:T:C  RPS4Y2      SYNONYMOUS_CODING  0.023332\n",
       "\n",
       "[190800 rows x 4 columns]"
      ]
     },
     "execution_count": 32,
     "metadata": {},
     "output_type": "execute_result"
    }
   ],
   "source": [
    "data_grp.head()"
   ]
  },
  {
   "cell_type": "code",
   "execution_count": 60,
   "id": "86ddb0bf",
   "metadata": {},
   "outputs": [],
   "source": [
    "NS_list = []\n",
    "genes_of_interest = list(set(final_esp[\"GENE\"]))\n",
    "genes_NS = []\n",
    "for i in genes_of_interest:\n",
    "    temp_df = final_esp.loc[new_esp['GENE'] == i]\n",
    "    temp_df.head()\n",
    "    \n",
    "    #calculation of AF sum for different types of EFF\n",
    "    af_syn = temp_df.loc[temp_df['EFF'] == 'SYNONYMOUS_CODING', 'AF'].sum()\n",
    "    af_nonsyn = temp_df.loc[temp_df['EFF'] == 'NON_SYNONYMOUS_CODING', 'AF'].sum()\n",
    "    af_frameshift = temp_df.loc[temp_df['EFF'] == 'STOP_GAINED', 'AF'].sum()\n",
    "    \n",
    "    # calculation of metric\n",
    "    statistics = (af_nonsyn + af_frameshift)/af_syn \n",
    "    NS_list.append(statistics)\n",
    "    genes_NS.append(i)"
   ]
  },
  {
   "cell_type": "code",
   "execution_count": 61,
   "id": "a5242426",
   "metadata": {},
   "outputs": [
    {
     "data": {
      "text/html": [
       "<div>\n",
       "<style scoped>\n",
       "    .dataframe tbody tr th:only-of-type {\n",
       "        vertical-align: middle;\n",
       "    }\n",
       "\n",
       "    .dataframe tbody tr th {\n",
       "        vertical-align: top;\n",
       "    }\n",
       "\n",
       "    .dataframe thead th {\n",
       "        text-align: right;\n",
       "    }\n",
       "</style>\n",
       "<table border=\"1\" class=\"dataframe\">\n",
       "  <thead>\n",
       "    <tr style=\"text-align: right;\">\n",
       "      <th></th>\n",
       "      <th>GENE</th>\n",
       "      <th>NS_metric</th>\n",
       "    </tr>\n",
       "  </thead>\n",
       "  <tbody>\n",
       "    <tr>\n",
       "      <th>0</th>\n",
       "      <td>GLMN</td>\n",
       "      <td>12.406720</td>\n",
       "    </tr>\n",
       "    <tr>\n",
       "      <th>1</th>\n",
       "      <td>GABPA</td>\n",
       "      <td>0.062046</td>\n",
       "    </tr>\n",
       "    <tr>\n",
       "      <th>2</th>\n",
       "      <td>RNF167</td>\n",
       "      <td>1.909089</td>\n",
       "    </tr>\n",
       "    <tr>\n",
       "      <th>3</th>\n",
       "      <td>SPRR1A</td>\n",
       "      <td>18.759419</td>\n",
       "    </tr>\n",
       "    <tr>\n",
       "      <th>4</th>\n",
       "      <td>ATP6V1E1</td>\n",
       "      <td>0.003916</td>\n",
       "    </tr>\n",
       "  </tbody>\n",
       "</table>\n",
       "</div>"
      ],
      "text/plain": [
       "       GENE  NS_metric\n",
       "0      GLMN  12.406720\n",
       "1     GABPA   0.062046\n",
       "2    RNF167   1.909089\n",
       "3    SPRR1A  18.759419\n",
       "4  ATP6V1E1   0.003916"
      ]
     },
     "execution_count": 61,
     "metadata": {},
     "output_type": "execute_result"
    }
   ],
   "source": [
    "genes_NS_dict = {'GENE':genes_NS,'NS_metric':NS_list}\n",
    "genes_NS_df = pd.DataFrame(genes_NS_dict)\n",
    "genes_NS_df.head()"
   ]
  },
  {
   "cell_type": "markdown",
   "id": "5ec70681",
   "metadata": {},
   "source": [
    "## Distribution and Mean"
   ]
  },
  {
   "cell_type": "code",
   "execution_count": 69,
   "id": "a44e2be7",
   "metadata": {},
   "outputs": [],
   "source": [
    "joj = list(genes_NS_df['NS_metric'])"
   ]
  },
  {
   "cell_type": "code",
   "execution_count": 81,
   "id": "45e2edb0",
   "metadata": {},
   "outputs": [],
   "source": [
    "bins_value = np.arange(start=min(joj), stop=max(joj), step=100)"
   ]
  },
  {
   "cell_type": "code",
   "execution_count": 82,
   "id": "d2fcf347",
   "metadata": {},
   "outputs": [
    {
     "data": {
      "text/plain": [
       "<AxesSubplot:ylabel='Frequency'>"
      ]
     },
     "execution_count": 82,
     "metadata": {},
     "output_type": "execute_result"
    },
    {
     "data": {
      "image/png": "[encoded data removed]",
      "text/plain": [
       "<Figure size 700x500 with 1 Axes>"
      ]
     },
     "metadata": {
      "needs_background": "light"
     },
     "output_type": "display_data"
    }
   ],
   "source": [
    "pd.Series(joj).plot(kind='hist', bins = bins_value)"
   ]
  },
  {
   "cell_type": "code",
   "execution_count": 88,
   "id": "3cc50708",
   "metadata": {},
   "outputs": [
    {
     "data": {
      "text/plain": [
       "35.260736076505935"
      ]
     },
     "execution_count": 88,
     "metadata": {},
     "output_type": "execute_result"
    }
   ],
   "source": [
    "# mean of the values\n",
    "np.average(joj)"
   ]
  },
  {
   "cell_type": "markdown",
   "id": "250050ab",
   "metadata": {},
   "source": [
    "## Top-100 genes"
   ]
  },
  {
   "cell_type": "code",
   "execution_count": 101,
   "id": "536c0177",
   "metadata": {},
   "outputs": [
    {
     "data": {
      "text/html": [
       "<div>\n",
       "<style scoped>\n",
       "    .dataframe tbody tr th:only-of-type {\n",
       "        vertical-align: middle;\n",
       "    }\n",
       "\n",
       "    .dataframe tbody tr th {\n",
       "        vertical-align: top;\n",
       "    }\n",
       "\n",
       "    .dataframe thead th {\n",
       "        text-align: right;\n",
       "    }\n",
       "</style>\n",
       "<table border=\"1\" class=\"dataframe\">\n",
       "  <thead>\n",
       "    <tr style=\"text-align: right;\">\n",
       "      <th></th>\n",
       "      <th>GENE</th>\n",
       "      <th>NS_metric</th>\n",
       "    </tr>\n",
       "  </thead>\n",
       "  <tbody>\n",
       "    <tr>\n",
       "      <th>7665</th>\n",
       "      <td>DEFB108B</td>\n",
       "      <td>26863.065988</td>\n",
       "    </tr>\n",
       "    <tr>\n",
       "      <th>14145</th>\n",
       "      <td>C4orf36</td>\n",
       "      <td>15141.996735</td>\n",
       "    </tr>\n",
       "    <tr>\n",
       "      <th>9900</th>\n",
       "      <td>KRTAP4-2</td>\n",
       "      <td>12706.389038</td>\n",
       "    </tr>\n",
       "    <tr>\n",
       "      <th>15073</th>\n",
       "      <td>KRTAP22-1</td>\n",
       "      <td>12060.000411</td>\n",
       "    </tr>\n",
       "    <tr>\n",
       "      <th>4285</th>\n",
       "      <td>HEPN1</td>\n",
       "      <td>10366.154756</td>\n",
       "    </tr>\n",
       "  </tbody>\n",
       "</table>\n",
       "</div>"
      ],
      "text/plain": [
       "            GENE     NS_metric\n",
       "7665    DEFB108B  26863.065988\n",
       "14145    C4orf36  15141.996735\n",
       "9900    KRTAP4-2  12706.389038\n",
       "15073  KRTAP22-1  12060.000411\n",
       "4285       HEPN1  10366.154756"
      ]
     },
     "execution_count": 101,
     "metadata": {},
     "output_type": "execute_result"
    }
   ],
   "source": [
    "# top - 100 highest genes\n",
    "highest = genes_NS_df.sort_values(by='NS_metric', ascending=False)\n",
    "highest.head()"
   ]
  },
  {
   "cell_type": "code",
   "execution_count": 104,
   "id": "fa11ba47",
   "metadata": {},
   "outputs": [
    {
     "data": {
      "text/plain": [
       "['DEFB108B',\n",
       " 'C4orf36',\n",
       " 'KRTAP4-2',\n",
       " 'KRTAP22-1',\n",
       " 'HEPN1',\n",
       " 'SPINK6',\n",
       " 'CLPSL2',\n",
       " 'WFDC10B',\n",
       " 'UQCC3',\n",
       " 'CXCL11',\n",
       " 'LCE5A',\n",
       " 'ST20',\n",
       " 'OR2T5',\n",
       " 'SAA4',\n",
       " 'OR52N4',\n",
       " 'FMC1',\n",
       " 'CCL15',\n",
       " 'LYRM4',\n",
       " 'SPAG11A',\n",
       " 'MAGEB16',\n",
       " 'C17orf58',\n",
       " 'FAM180B',\n",
       " 'OR4F5',\n",
       " 'GAGE12J',\n",
       " 'VMO1',\n",
       " 'PSORS1C2',\n",
       " 'PSMG4',\n",
       " 'C2orf70',\n",
       " 'C2orf88',\n",
       " 'NPW',\n",
       " 'SAA2',\n",
       " 'PLA2G2C',\n",
       " 'CLEC1B',\n",
       " 'HINT3',\n",
       " 'KLRC1',\n",
       " 'S100A7',\n",
       " 'C2orf83',\n",
       " 'C8orf31',\n",
       " 'KLRD1',\n",
       " 'MRPL18',\n",
       " 'MT1A',\n",
       " 'BCL2L10',\n",
       " 'BTLA',\n",
       " 'TM4SF19',\n",
       " 'SLC25A45',\n",
       " 'C8orf4',\n",
       " 'KRTAP12-3',\n",
       " 'MLN',\n",
       " 'LOC401052',\n",
       " 'TSEN15',\n",
       " 'ARTN',\n",
       " 'C4orf32',\n",
       " 'KLF2',\n",
       " 'OBP2A',\n",
       " 'TNFSF12-TNFSF13',\n",
       " 'OR6C1',\n",
       " 'C12orf77',\n",
       " 'CYBRD1',\n",
       " 'C10orf25',\n",
       " 'SPATA45',\n",
       " 'OR11H1',\n",
       " 'CDPF1',\n",
       " 'GSTT2',\n",
       " 'ARMS2',\n",
       " 'KRTAP25-1',\n",
       " 'C1orf105',\n",
       " 'CENPBD1',\n",
       " 'KRTAP4-4',\n",
       " 'OR5B17',\n",
       " 'COQ4',\n",
       " 'CFAP36',\n",
       " 'CSAG1',\n",
       " 'C1orf162',\n",
       " 'IL36A',\n",
       " 'DEFB128',\n",
       " 'PRR4',\n",
       " 'PRSS48',\n",
       " 'SMCO3',\n",
       " 'PRDX5',\n",
       " 'UBXN8',\n",
       " 'PSMD9',\n",
       " 'EDA2R',\n",
       " 'ATPIF1',\n",
       " 'FAM127B',\n",
       " 'CRACR2B',\n",
       " 'FAM122C',\n",
       " 'TSHB',\n",
       " 'SSMEM1',\n",
       " 'SUMO4',\n",
       " 'SPINK4',\n",
       " 'GSTA5',\n",
       " 'LCE1D',\n",
       " 'NUDT22',\n",
       " 'TTC9',\n",
       " 'OR2G2',\n",
       " 'RNASE3',\n",
       " 'LY96',\n",
       " 'NEUROG3',\n",
       " 'CDK7',\n",
       " 'CLDN19']"
      ]
     },
     "execution_count": 104,
     "metadata": {},
     "output_type": "execute_result"
    }
   ],
   "source": [
    "highest_list = list(highest['GENE'])[:100]\n",
    "highest_list"
   ]
  },
  {
   "cell_type": "code",
   "execution_count": 99,
   "id": "75bfaf27",
   "metadata": {},
   "outputs": [
    {
     "data": {
      "text/html": [
       "<div>\n",
       "<style scoped>\n",
       "    .dataframe tbody tr th:only-of-type {\n",
       "        vertical-align: middle;\n",
       "    }\n",
       "\n",
       "    .dataframe tbody tr th {\n",
       "        vertical-align: top;\n",
       "    }\n",
       "\n",
       "    .dataframe thead th {\n",
       "        text-align: right;\n",
       "    }\n",
       "</style>\n",
       "<table border=\"1\" class=\"dataframe\">\n",
       "  <thead>\n",
       "    <tr style=\"text-align: right;\">\n",
       "      <th></th>\n",
       "      <th>GENE</th>\n",
       "      <th>NS_metric</th>\n",
       "    </tr>\n",
       "  </thead>\n",
       "  <tbody>\n",
       "    <tr>\n",
       "      <th>9202</th>\n",
       "      <td>ZHX1-C8orf76</td>\n",
       "      <td>0.0</td>\n",
       "    </tr>\n",
       "    <tr>\n",
       "      <th>9919</th>\n",
       "      <td>PTPN20</td>\n",
       "      <td>0.0</td>\n",
       "    </tr>\n",
       "    <tr>\n",
       "      <th>855</th>\n",
       "      <td>UBB</td>\n",
       "      <td>0.0</td>\n",
       "    </tr>\n",
       "    <tr>\n",
       "      <th>7373</th>\n",
       "      <td>NEDD8-MDP1</td>\n",
       "      <td>0.0</td>\n",
       "    </tr>\n",
       "    <tr>\n",
       "      <th>8166</th>\n",
       "      <td>GAS1</td>\n",
       "      <td>0.0</td>\n",
       "    </tr>\n",
       "  </tbody>\n",
       "</table>\n",
       "</div>"
      ],
      "text/plain": [
       "              GENE  NS_metric\n",
       "9202  ZHX1-C8orf76        0.0\n",
       "9919        PTPN20        0.0\n",
       "855            UBB        0.0\n",
       "7373    NEDD8-MDP1        0.0\n",
       "8166          GAS1        0.0"
      ]
     },
     "execution_count": 99,
     "metadata": {},
     "output_type": "execute_result"
    }
   ],
   "source": [
    "# top - 100 lowest genes\n",
    "lowest = genes_NS_df.sort_values(by='NS_metric', ascending=True)\n",
    "lowest.head()"
   ]
  },
  {
   "cell_type": "code",
   "execution_count": 105,
   "id": "b7c6e97e",
   "metadata": {
    "scrolled": false
   },
   "outputs": [
    {
     "data": {
      "text/plain": [
       "['ZHX1-C8orf76',\n",
       " 'PTPN20',\n",
       " 'UBB',\n",
       " 'NEDD8-MDP1',\n",
       " 'GAS1',\n",
       " 'RPL38',\n",
       " 'TUBB',\n",
       " 'GPR75-ASB3',\n",
       " 'UBE2L3',\n",
       " 'C17orf51',\n",
       " 'MTCP1',\n",
       " 'GNG3',\n",
       " 'UBE2D2',\n",
       " 'UBE2K',\n",
       " 'OLIG1',\n",
       " 'SDHAF1',\n",
       " 'DYNLL1',\n",
       " 'VPS29',\n",
       " 'DPY30',\n",
       " 'RPS23',\n",
       " 'PABPC1L2A',\n",
       " 'CSNK1A1',\n",
       " 'SEC61G',\n",
       " 'ANKRD34C',\n",
       " 'SNRPG',\n",
       " 'UBE2H',\n",
       " 'RPL27A',\n",
       " 'SNRPD3',\n",
       " 'RPL30',\n",
       " 'RPS4X',\n",
       " 'SRSF3',\n",
       " 'FAM127A',\n",
       " 'TMEM35B',\n",
       " 'PABPN1',\n",
       " 'ANXA8',\n",
       " 'FAM157B',\n",
       " 'ARF6',\n",
       " 'TGIF2-C20orf24',\n",
       " 'SNRPD1',\n",
       " 'ARF4',\n",
       " 'NRGN',\n",
       " 'HBA1',\n",
       " 'TRIQK',\n",
       " 'HRK',\n",
       " 'TXNL4A',\n",
       " 'PPIA',\n",
       " 'SMIM13',\n",
       " 'RPL39',\n",
       " 'EIF1AX',\n",
       " 'RPS15A',\n",
       " 'NCBP2',\n",
       " 'TNNI3K',\n",
       " 'UBE2QL1',\n",
       " 'TUBB2B',\n",
       " 'PHF5A',\n",
       " 'CRH',\n",
       " 'ZNF706',\n",
       " 'FGF16',\n",
       " 'H2AFZ',\n",
       " 'OST4',\n",
       " 'RPS28',\n",
       " 'SUMO2',\n",
       " 'C19orf24',\n",
       " 'BEAN1',\n",
       " 'TMED7',\n",
       " 'PPP4C',\n",
       " 'H3F3B',\n",
       " 'FAM157A',\n",
       " 'TMSB10',\n",
       " 'POTEB2',\n",
       " 'TOMM6',\n",
       " 'CCDC71L',\n",
       " 'ARPC4',\n",
       " 'SP9',\n",
       " 'H3F3A',\n",
       " 'NUDT21',\n",
       " 'SRGAP2C',\n",
       " 'ERH',\n",
       " 'MOB4',\n",
       " 'RAB2A',\n",
       " 'TUBA1A',\n",
       " 'TMEM158',\n",
       " 'RNF187',\n",
       " 'PRPS1',\n",
       " 'EIF1',\n",
       " 'UBE2I',\n",
       " 'KLF16',\n",
       " 'TMEM212',\n",
       " 'SSU72',\n",
       " 'UBE2A',\n",
       " 'CFL1',\n",
       " 'PSMA7',\n",
       " 'FAM228B',\n",
       " 'POU3F2',\n",
       " 'PPP3R1',\n",
       " 'UBALD2',\n",
       " 'PDIK1L',\n",
       " 'YAF2',\n",
       " 'GNG8',\n",
       " 'ARF3']"
      ]
     },
     "execution_count": 105,
     "metadata": {},
     "output_type": "execute_result"
    }
   ],
   "source": [
    "lowest_list = list(lowest['GENE'])[:100]\n",
    "lowest_list"
   ]
  },
  {
   "cell_type": "markdown",
   "id": "474b2776",
   "metadata": {},
   "source": [
    "### Conclusion\n",
    "\n",
    "The lowest top-100 genes are more conserved in the evolution and non-synonymous mutations accumulate slower than synonymous, which indicates the negative selection.\n",
    "\n",
    "The highest top-100 genes are less conserved in the evolution and non-synonymous mutations, which lead to the functional change, accumulate faster than synonymous, which indicates the positive selection.\n"
   ]
  },
  {
   "cell_type": "markdown",
   "id": "5bd68ac5",
   "metadata": {},
   "source": [
    "## MSigDB"
   ]
  },
  {
   "cell_type": "markdown",
   "id": "82b1c873",
   "metadata": {},
   "source": [
    "**Lowest top-100 genes** are involved in the key pathways of the organism: nervous system development, metabolism of RNA, cellular response to stimuli, infectious disease and etc. This indicates that low variation in genes, which play important role in the methabolism and development pathways, are under negative selection, because variation in these genes may lead to the functional change of the protein and by that disrupt the pathway functionality."
   ]
  },
  {
   "cell_type": "markdown",
   "id": "98b4b8d6",
   "metadata": {},
   "source": [
    "![alt text](lowest.png)"
   ]
  },
  {
   "cell_type": "markdown",
   "id": "7bb0ee70",
   "metadata": {},
   "source": [
    "Some of the **highest top 100 genes** play a role in the process of keratinization, where variation can lead to a positive effect on the organism, and thus these genes are under positive selection."
   ]
  },
  {
   "cell_type": "markdown",
   "id": "50b956c0",
   "metadata": {},
   "source": [
    "![alt text](highest.png)"
   ]
  }
 ],
 "metadata": {
  "kernelspec": {
   "display_name": "Python 3 (ipykernel)",
   "language": "python",
   "name": "python3"
  },
  "language_info": {
   "codemirror_mode": {
    "name": "ipython",
    "version": 3
   },
   "file_extension": ".py",
   "mimetype": "text/x-python",
   "name": "python",
   "nbconvert_exporter": "python",
   "pygments_lexer": "ipython3",
   "version": "3.9.12"
  }
 },
 "nbformat": 4,
 "nbformat_minor": 5
}
